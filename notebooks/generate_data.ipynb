{
 "cells": [
  {
   "cell_type": "code",
   "execution_count": 9,
   "metadata": {},
   "outputs": [],
   "source": [
    "import gym\n",
    "from gym.envs.mujoco.inverted_pendulum_v4 import InvertedPendulumEnv\n",
    "import numpy as np\n",
    "\n",
    "env = gym.make('InvertedPendulum-v4')\n",
    "s = env.reset()[0]"
   ]
  },
  {
   "cell_type": "code",
   "execution_count": 10,
   "metadata": {},
   "outputs": [
    {
     "data": {
      "text/plain": [
       "array([-0.00110172,  0.00290828,  0.00453834,  0.00203501])"
      ]
     },
     "execution_count": 10,
     "metadata": {},
     "output_type": "execute_result"
    }
   ],
   "source": [
    "s"
   ]
  },
  {
   "cell_type": "code",
   "execution_count": 11,
   "metadata": {},
   "outputs": [],
   "source": [
    "pi = lambda s: env.action_space.sample()\n",
    "\n",
    "N = 250\n",
    "H = 20\n",
    "\n",
    "dataset = []\n",
    "\n",
    "for ep in range(N):\n",
    "    for t in range(H):\n",
    "        a = pi(s)\n",
    "        s1, r, terminated, _, _ = env.step(a)\n",
    "        dataset.append((s,a,r,s1))\n",
    "        if terminated:\n",
    "            s = env.reset()[0]\n",
    "        else:\n",
    "            s = s1"
   ]
  },
  {
   "cell_type": "code",
   "execution_count": 12,
   "metadata": {},
   "outputs": [],
   "source": [
    "import pandas as pd\n",
    "# create DataFrame using data\n",
    "df = pd.DataFrame(dataset, columns =['s', 'a', 'r', 's1'])\n",
    "df.to_csv('./data/UntrainedMujocoPendDataset'+str(N*H)+'_2.csv')"
   ]
  },
  {
   "cell_type": "code",
   "execution_count": null,
   "metadata": {},
   "outputs": [],
   "source": []
  },
  {
   "cell_type": "code",
   "execution_count": null,
   "metadata": {},
   "outputs": [],
   "source": []
  }
 ],
 "metadata": {
  "kernelspec": {
   "display_name": "Python 3",
   "language": "python",
   "name": "python3"
  },
  "language_info": {
   "codemirror_mode": {
    "name": "ipython",
    "version": 3
   },
   "file_extension": ".py",
   "mimetype": "text/x-python",
   "name": "python",
   "nbconvert_exporter": "python",
   "pygments_lexer": "ipython3",
   "version": "3.7.9"
  },
  "orig_nbformat": 4,
  "vscode": {
   "interpreter": {
    "hash": "aee8b7b246df8f9039afb4144a1f6fd8d2ca17a180786b69acc140d282b71a49"
   }
  }
 },
 "nbformat": 4,
 "nbformat_minor": 2
}
