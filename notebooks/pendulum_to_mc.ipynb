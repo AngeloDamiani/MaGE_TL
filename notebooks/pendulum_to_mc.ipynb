{
 "cells": [
  {
   "cell_type": "code",
   "execution_count": 1,
   "metadata": {},
   "outputs": [
    {
     "name": "stderr",
     "output_type": "stream",
     "text": [
      "/Library/Frameworks/Python.framework/Versions/3.7/lib/python3.7/site-packages/tqdm/auto.py:22: TqdmWarning: IProgress not found. Please update jupyter and ipywidgets. See https://ipywidgets.readthedocs.io/en/stable/user_install.html\n",
      "  from .autonotebook import tqdm as notebook_tqdm\n"
     ]
    }
   ],
   "source": [
    "# GENERAL IMPORTS\n",
    "\n",
    "import torch\n",
    "from mapping.datasets import RLDatasetFormatter\n",
    "from mapping.models import Discriminator, TransitionModel, LitAutoEncoder"
   ]
  },
  {
   "cell_type": "code",
   "execution_count": 2,
   "metadata": {},
   "outputs": [],
   "source": [
    "# READING OF DATASETS\n",
    "\n",
    "dataset_t_path = 'data/UntrainedMCDataset500.csv'\n",
    "dataset_s_path = 'data/UntrainedPendDataset5000.csv'\n",
    "extended_dataset_t_path = 'data/UntrainedMCDataset5000.csv'\n",
    "super_extended_dataset_t_path = 'data/UntrainedMCDataset50000.csv'\n",
    "\n",
    "data_formatter_t = RLDatasetFormatter().from_csv(dataset_t_path)\n",
    "data_formatter_s = RLDatasetFormatter().from_csv(dataset_s_path)\n",
    "ext_data_formatter_t = RLDatasetFormatter().from_csv(extended_dataset_t_path)\n",
    "super_ext_data_formatter_t = RLDatasetFormatter().from_csv(super_extended_dataset_t_path)"
   ]
  },
  {
   "cell_type": "code",
   "execution_count": 3,
   "metadata": {},
   "outputs": [
    {
     "name": "stderr",
     "output_type": "stream",
     "text": [
      "GPU available: False, used: False\n",
      "TPU available: False, using: 0 TPU cores\n",
      "IPU available: False, using: 0 IPUs\n",
      "HPU available: False, using: 0 HPUs\n",
      "Missing logger folder: ./lightning_logs_test/Discriminator/lightning_logs\n",
      "\n",
      "  | Name           | Type       | Params\n",
      "----------------------------------------------\n",
      "0 | sfc            | Sequential | 8.5 K \n",
      "1 | actionfc       | Sequential | 8.4 K \n",
      "2 | s1fc           | Sequential | 8.5 K \n",
      "3 | model          | Sequential | 24.7 K\n",
      "4 | loss_criterion | BCELoss    | 0     \n",
      "----------------------------------------------\n",
      "50.2 K    Trainable params\n",
      "0         Non-trainable params\n",
      "50.2 K    Total params\n",
      "0.201     Total estimated model params size (MB)\n",
      "/Library/Frameworks/Python.framework/Versions/3.7/lib/python3.7/site-packages/pytorch_lightning/loggers/tensorboard.py:262: UserWarning: Could not log computational graph to TensorBoard: The `model.example_input_array` attribute is not set or `input_array` was not given.\n",
      "  \"Could not log computational graph to TensorBoard: The `model.example_input_array` attribute\"\n"
     ]
    },
    {
     "name": "stdout",
     "output_type": "stream",
     "text": [
      "                                                                           "
     ]
    },
    {
     "name": "stderr",
     "output_type": "stream",
     "text": [
      "/Library/Frameworks/Python.framework/Versions/3.7/lib/python3.7/site-packages/pytorch_lightning/trainer/connectors/data_connector.py:229: PossibleUserWarning: The dataloader, val_dataloader 0, does not have many workers which may be a bottleneck. Consider increasing the value of the `num_workers` argument` (try 8 which is the number of cpus on this machine) in the `DataLoader` init to improve performance.\n",
      "  category=PossibleUserWarning,\n",
      "/Library/Frameworks/Python.framework/Versions/3.7/lib/python3.7/site-packages/pytorch_lightning/trainer/connectors/data_connector.py:229: PossibleUserWarning: The dataloader, train_dataloader, does not have many workers which may be a bottleneck. Consider increasing the value of the `num_workers` argument` (try 8 which is the number of cpus on this machine) in the `DataLoader` init to improve performance.\n",
      "  category=PossibleUserWarning,\n"
     ]
    },
    {
     "name": "stdout",
     "output_type": "stream",
     "text": [
      "Epoch 99: 100%|██████████| 64/64 [00:00<00:00, 106.29it/s, loss=4.02e-05, v_num=0]"
     ]
    },
    {
     "name": "stderr",
     "output_type": "stream",
     "text": [
      "`Trainer.fit` stopped: `max_epochs=100` reached.\n"
     ]
    },
    {
     "name": "stdout",
     "output_type": "stream",
     "text": [
      "Epoch 99: 100%|██████████| 64/64 [00:00<00:00, 104.52it/s, loss=4.02e-05, v_num=0]\n"
     ]
    }
   ],
   "source": [
    "# TRAINING OF DISCRIMINATOR\n",
    "\n",
    "\n",
    "def generate_synthetic_dataset(n, s_bound, a_bound):\n",
    "\n",
    "    fake_s, fake_s1, fake_a = [], [], []\n",
    "\n",
    "    for r0, r1 in s_bound:\n",
    "        fake_s.append((r1-r0)*torch.rand((n, 1)) + r0)\n",
    "    fake_s = torch.cat(fake_s, 1)\n",
    "\n",
    "    for r0, r1 in a_bound:\n",
    "        fake_a.append((r1-r0)*torch.rand((n, 1)) + r0)\n",
    "    fake_a = torch.cat(fake_a, 1)\n",
    "\n",
    "    for r0, r1 in s_bound:\n",
    "        fake_s1.append((r1-r0)*torch.rand((n, 1)) + r0)\n",
    "    fake_s1 = torch.cat(fake_s1, 1)\n",
    "    fake_r = torch.zeros((n, 1))\n",
    "\n",
    "    return RLDatasetFormatter([fake_s, fake_a, fake_r, fake_s1]).transition_as_fake()\n",
    "\n",
    "\n",
    "disc_dataset = data_formatter_t.transition_as_valid()\n",
    "\n",
    "fake_samples = [\n",
    "    {\n",
    "        'count': len(disc_dataset)//2,\n",
    "        's_bound': [(-1.2, 0.6), (-0.07, 0.07)],\n",
    "        'a_bound': [(-1, 1)]\n",
    "    },\n",
    "    {\n",
    "        'count': len(disc_dataset)//2,\n",
    "        's_bound': [(-12, 6), (-0.7, 0.7)],\n",
    "        'a_bound': [(-10, 10)]\n",
    "    },\n",
    "    {\n",
    "        'count': len(disc_dataset)//2,\n",
    "        's_bound': [(-120, 60), (-7, 7)],\n",
    "        'a_bound': [(-100, 100)]\n",
    "    }]\n",
    "\n",
    "for desc in fake_samples:\n",
    "    sd = generate_synthetic_dataset(desc['count'], desc['s_bound'], desc['a_bound'])\n",
    "    disc_dataset = disc_dataset.merge(sd)\n",
    "\n",
    "\n",
    "D = Discriminator(data_formatter_t.state_size, data_formatter_t.action_size)\n",
    "D.train_model(disc_dataset, model_dir='/Discriminator', batch_size=20)\n"
   ]
  },
  {
   "cell_type": "code",
   "execution_count": 4,
   "metadata": {},
   "outputs": [
    {
     "name": "stderr",
     "output_type": "stream",
     "text": [
      "GPU available: False, used: False\n",
      "TPU available: False, using: 0 TPU cores\n",
      "IPU available: False, using: 0 IPUs\n",
      "HPU available: False, using: 0 HPUs\n",
      "Missing logger folder: ./lightning_logs_test/T/lightning_logs\n",
      "\n",
      "  | Name           | Type       | Params\n",
      "----------------------------------------------\n",
      "0 | loss_criterion | L1Loss     | 0     \n",
      "1 | statefc        | Sequential | 8.5 K \n",
      "2 | actionfc       | Sequential | 8.4 K \n",
      "3 | predfc         | Sequential | 16.6 K\n",
      "----------------------------------------------\n",
      "33.5 K    Trainable params\n",
      "0         Non-trainable params\n",
      "33.5 K    Total params\n",
      "0.134     Total estimated model params size (MB)\n"
     ]
    },
    {
     "name": "stdout",
     "output_type": "stream",
     "text": [
      "                                                                            \r"
     ]
    },
    {
     "name": "stderr",
     "output_type": "stream",
     "text": [
      "/Library/Frameworks/Python.framework/Versions/3.7/lib/python3.7/site-packages/pytorch_lightning/trainer/trainer.py:1562: PossibleUserWarning: The number of training batches (23) is smaller than the logging interval Trainer(log_every_n_steps=50). Set a lower value for log_every_n_steps if you want to see logs for the training epoch.\n",
      "  category=PossibleUserWarning,\n"
     ]
    },
    {
     "name": "stdout",
     "output_type": "stream",
     "text": [
      "Epoch 99: 100%|██████████| 26/26 [00:00<00:00, 115.21it/s, loss=0.00384, v_num=0]"
     ]
    },
    {
     "name": "stderr",
     "output_type": "stream",
     "text": [
      "`Trainer.fit` stopped: `max_epochs=100` reached.\n"
     ]
    },
    {
     "name": "stdout",
     "output_type": "stream",
     "text": [
      "Epoch 99: 100%|██████████| 26/26 [00:00<00:00, 110.75it/s, loss=0.00384, v_num=0]\n"
     ]
    }
   ],
   "source": [
    "dataset_t = data_formatter_t.as_transitions()\n",
    "\n",
    "T = TransitionModel(data_formatter_t.state_size, data_formatter_t.action_size)\n",
    "T.train_model(dataset_t, model_dir='/T')"
   ]
  },
  {
   "cell_type": "code",
   "execution_count": 5,
   "metadata": {},
   "outputs": [
    {
     "name": "stderr",
     "output_type": "stream",
     "text": [
      "GPU available: False, used: False\n",
      "TPU available: False, using: 0 TPU cores\n",
      "IPU available: False, using: 0 IPUs\n",
      "HPU available: False, using: 0 HPUs\n",
      "Missing logger folder: ./lightning_logs_test/AE/lightning_logs\n",
      "\n",
      "  | Name    | Type       | Params\n",
      "---------------------------------------\n",
      "0 | encoder | Sequential | 837   \n",
      "1 | decoder | Sequential | 839   \n",
      "---------------------------------------\n",
      "1.7 K     Trainable params\n",
      "0         Non-trainable params\n",
      "1.7 K     Total params\n",
      "0.007     Total estimated model params size (MB)\n"
     ]
    },
    {
     "name": "stdout",
     "output_type": "stream",
     "text": [
      "                                                                            "
     ]
    },
    {
     "name": "stderr",
     "output_type": "stream",
     "text": [
      "/Library/Frameworks/Python.framework/Versions/3.7/lib/python3.7/site-packages/pytorch_lightning/trainer/trainer.py:1562: PossibleUserWarning: The number of training batches (45) is smaller than the logging interval Trainer(log_every_n_steps=50). Set a lower value for log_every_n_steps if you want to see logs for the training epoch.\n",
      "  category=PossibleUserWarning,\n"
     ]
    },
    {
     "name": "stdout",
     "output_type": "stream",
     "text": [
      "Epoch 99: 100%|██████████| 50/50 [00:00<00:00, 112.69it/s, loss=102, v_num=0]"
     ]
    },
    {
     "name": "stderr",
     "output_type": "stream",
     "text": [
      "`Trainer.fit` stopped: `max_epochs=100` reached.\n"
     ]
    },
    {
     "name": "stdout",
     "output_type": "stream",
     "text": [
      "Epoch 99: 100%|██████████| 50/50 [00:00<00:00, 110.41it/s, loss=102, v_num=0]\n"
     ]
    }
   ],
   "source": [
    "D_model_checkpoint = 'lightning_logs/Discriminator/lightning_logs/version_0/checkpoints/epoch=99-step=5700.ckpt'\n",
    "T_model_checkpoint = 'lightning_logs/T/lightning_logs/version_0/checkpoints/epoch=99-step=2300.ckpt'\n",
    "\n",
    "#T = TransitionModel.load_from_checkpoint(T_model_checkpoint, s_dim=data_formatter_t.state_size, a_dim=data_formatter_t.action_size)\n",
    "#D = Discriminator.load_from_checkpoint(D_model_checkpoint, s_dim=data_formatter_t.state_size, a_dim=data_formatter_t.action_size)\n",
    "\n",
    "source_triplet_size = data_formatter_s.state_size*2+data_formatter_s.action_size\n",
    "AE = LitAutoEncoder(T, D, dim_s=source_triplet_size)\n",
    "\n",
    "dataset_s = data_formatter_s.transition_identity()\n",
    "AE.train_model(dataset_s, batch_size=100, model_dir=\"/AE\")\n"
   ]
  },
  {
   "cell_type": "code",
   "execution_count": 6,
   "metadata": {},
   "outputs": [],
   "source": [
    "M = AE.as_dict()['M']\n",
    "\n",
    "dataset_s = data_formatter_s.transition_identity()\n",
    "\n",
    "sas, _ = dataset_s[:]\n",
    "\n",
    "with torch.no_grad():\n",
    "    synthetic_data = M(sas)\n",
    "    \n",
    "r_synth = torch.zeros((synthetic_data.shape[0],1))\n",
    "s_synth,a_synth,s1_synth = torch.split(synthetic_data, [data_formatter_t.state_size, data_formatter_t.action_size, data_formatter_t.state_size],1)\n",
    "data_formatter_synth = RLDatasetFormatter([s_synth, a_synth, r_synth, s1_synth])"
   ]
  },
  {
   "cell_type": "code",
   "execution_count": 7,
   "metadata": {},
   "outputs": [
    {
     "name": "stderr",
     "output_type": "stream",
     "text": [
      "GPU available: False, used: False\n",
      "TPU available: False, using: 0 TPU cores\n",
      "IPU available: False, using: 0 IPUs\n",
      "HPU available: False, using: 0 HPUs\n",
      "Missing logger folder: ./lightning_logs_test/T_hat/lightning_logs\n",
      "\n",
      "  | Name           | Type       | Params\n",
      "----------------------------------------------\n",
      "0 | loss_criterion | L1Loss     | 0     \n",
      "1 | statefc        | Sequential | 8.5 K \n",
      "2 | actionfc       | Sequential | 8.4 K \n",
      "3 | predfc         | Sequential | 16.6 K\n",
      "----------------------------------------------\n",
      "33.5 K    Trainable params\n",
      "0         Non-trainable params\n",
      "33.5 K    Total params\n",
      "0.134     Total estimated model params size (MB)\n",
      "/Library/Frameworks/Python.framework/Versions/3.7/lib/python3.7/site-packages/pytorch_lightning/loggers/tensorboard.py:262: UserWarning: Could not log computational graph to TensorBoard: The `model.example_input_array` attribute is not set or `input_array` was not given.\n",
      "  \"Could not log computational graph to TensorBoard: The `model.example_input_array` attribute\"\n"
     ]
    },
    {
     "name": "stdout",
     "output_type": "stream",
     "text": [
      "                                                                            "
     ]
    },
    {
     "name": "stderr",
     "output_type": "stream",
     "text": [
      "/Library/Frameworks/Python.framework/Versions/3.7/lib/python3.7/site-packages/pytorch_lightning/trainer/connectors/data_connector.py:229: PossibleUserWarning: The dataloader, val_dataloader 0, does not have many workers which may be a bottleneck. Consider increasing the value of the `num_workers` argument` (try 8 which is the number of cpus on this machine) in the `DataLoader` init to improve performance.\n",
      "  category=PossibleUserWarning,\n",
      "/Library/Frameworks/Python.framework/Versions/3.7/lib/python3.7/site-packages/pytorch_lightning/trainer/connectors/data_connector.py:229: PossibleUserWarning: The dataloader, train_dataloader, does not have many workers which may be a bottleneck. Consider increasing the value of the `num_workers` argument` (try 8 which is the number of cpus on this machine) in the `DataLoader` init to improve performance.\n",
      "  category=PossibleUserWarning,\n"
     ]
    },
    {
     "name": "stdout",
     "output_type": "stream",
     "text": [
      "Epoch 99: 100%|██████████| 276/276 [00:02<00:00, 135.18it/s, loss=0.205, v_num=0]"
     ]
    },
    {
     "name": "stderr",
     "output_type": "stream",
     "text": [
      "`Trainer.fit` stopped: `max_epochs=100` reached.\n"
     ]
    },
    {
     "name": "stdout",
     "output_type": "stream",
     "text": [
      "Epoch 99: 100%|██████████| 276/276 [00:02<00:00, 134.55it/s, loss=0.205, v_num=0]\n"
     ]
    }
   ],
   "source": [
    "dataset_synth = data_formatter_synth.as_transitions()\n",
    "dataset_hybrid = data_formatter_t.as_transitions().merge(dataset_synth)\n",
    "T_hat = TransitionModel(data_formatter_t.state_size, data_formatter_t.action_size)\n",
    "T_hat.train_model(dataset_hybrid, model_dir='/T_hat')"
   ]
  },
  {
   "cell_type": "code",
   "execution_count": 9,
   "metadata": {},
   "outputs": [
    {
     "data": {
      "image/png": "[encoded data removed]",
      "text/plain": [
       "<Figure size 640x480 with 1 Axes>"
      ]
     },
     "metadata": {},
     "output_type": "display_data"
    }
   ],
   "source": [
    "ext_dataset_t = ext_data_formatter_t.as_transitions()\n",
    "\n",
    "sa, s1 = ext_dataset_t[:]\n",
    "\n",
    "import matplotlib.pyplot as plt\n",
    "\n",
    "T.eval()\n",
    "T_hat.eval()\n",
    "with torch.no_grad():\n",
    "    error = T(sa)-s1\n",
    "    plt.plot(torch.norm(error,dim=1,).detach().numpy())\n",
    "    error = T_hat(sa)-s1\n",
    "    plt.plot(torch.norm(error,dim=1).detach().numpy())\n",
    "\n",
    "plt.legend(['T', 'T_hat'])\n",
    "plt.grid()"
   ]
  },
  {
   "cell_type": "code",
   "execution_count": 10,
   "metadata": {},
   "outputs": [
    {
     "name": "stderr",
     "output_type": "stream",
     "text": [
      "GPU available: False, used: False\n",
      "TPU available: False, using: 0 TPU cores\n",
      "IPU available: False, using: 0 IPUs\n",
      "HPU available: False, using: 0 HPUs\n",
      "Missing logger folder: ./lightning_logs_test/T_ext/lightning_logs\n",
      "\n",
      "  | Name           | Type       | Params\n",
      "----------------------------------------------\n",
      "0 | loss_criterion | L1Loss     | 0     \n",
      "1 | statefc        | Sequential | 8.5 K \n",
      "2 | actionfc       | Sequential | 8.4 K \n",
      "3 | predfc         | Sequential | 16.6 K\n",
      "----------------------------------------------\n",
      "33.5 K    Trainable params\n",
      "0         Non-trainable params\n",
      "33.5 K    Total params\n",
      "0.134     Total estimated model params size (MB)\n",
      "/Library/Frameworks/Python.framework/Versions/3.7/lib/python3.7/site-packages/pytorch_lightning/loggers/tensorboard.py:262: UserWarning: Could not log computational graph to TensorBoard: The `model.example_input_array` attribute is not set or `input_array` was not given.\n",
      "  \"Could not log computational graph to TensorBoard: The `model.example_input_array` attribute\"\n"
     ]
    },
    {
     "name": "stdout",
     "output_type": "stream",
     "text": [
      "                                                                           "
     ]
    },
    {
     "name": "stderr",
     "output_type": "stream",
     "text": [
      "/Library/Frameworks/Python.framework/Versions/3.7/lib/python3.7/site-packages/pytorch_lightning/trainer/connectors/data_connector.py:229: PossibleUserWarning: The dataloader, val_dataloader 0, does not have many workers which may be a bottleneck. Consider increasing the value of the `num_workers` argument` (try 8 which is the number of cpus on this machine) in the `DataLoader` init to improve performance.\n",
      "  category=PossibleUserWarning,\n",
      "/Library/Frameworks/Python.framework/Versions/3.7/lib/python3.7/site-packages/pytorch_lightning/trainer/connectors/data_connector.py:229: PossibleUserWarning: The dataloader, train_dataloader, does not have many workers which may be a bottleneck. Consider increasing the value of the `num_workers` argument` (try 8 which is the number of cpus on this machine) in the `DataLoader` init to improve performance.\n",
      "  category=PossibleUserWarning,\n"
     ]
    },
    {
     "name": "stdout",
     "output_type": "stream",
     "text": [
      "Epoch 99: 100%|██████████| 250/250 [00:02<00:00, 117.82it/s, loss=0.00286, v_num=0] "
     ]
    },
    {
     "name": "stderr",
     "output_type": "stream",
     "text": [
      "`Trainer.fit` stopped: `max_epochs=100` reached.\n"
     ]
    },
    {
     "name": "stdout",
     "output_type": "stream",
     "text": [
      "Epoch 99: 100%|██████████| 250/250 [00:02<00:00, 116.80it/s, loss=0.00286, v_num=0]\n"
     ]
    }
   ],
   "source": [
    "ext_dataset_t = ext_data_formatter_t.as_transitions()\n",
    "T_ext = TransitionModel(data_formatter_t.state_size, data_formatter_t.action_size)\n",
    "T_ext.train_model(ext_dataset_t, model_dir='/T_ext')"
   ]
  },
  {
   "cell_type": "code",
   "execution_count": 11,
   "metadata": {},
   "outputs": [
    {
     "name": "stderr",
     "output_type": "stream",
     "text": [
      "GPU available: False, used: False\n",
      "TPU available: False, using: 0 TPU cores\n",
      "IPU available: False, using: 0 IPUs\n",
      "HPU available: False, using: 0 HPUs\n",
      "Missing logger folder: ./lightning_logs_test/T_synth/lightning_logs\n",
      "\n",
      "  | Name           | Type       | Params\n",
      "----------------------------------------------\n",
      "0 | loss_criterion | L1Loss     | 0     \n",
      "1 | statefc        | Sequential | 8.5 K \n",
      "2 | actionfc       | Sequential | 8.4 K \n",
      "3 | predfc         | Sequential | 16.6 K\n",
      "----------------------------------------------\n",
      "33.5 K    Trainable params\n",
      "0         Non-trainable params\n",
      "33.5 K    Total params\n",
      "0.134     Total estimated model params size (MB)\n"
     ]
    },
    {
     "name": "stdout",
     "output_type": "stream",
     "text": [
      "Epoch 99: 100%|██████████| 250/250 [00:02<00:00, 86.19it/s, loss=0.215, v_num=0] "
     ]
    },
    {
     "name": "stderr",
     "output_type": "stream",
     "text": [
      "`Trainer.fit` stopped: `max_epochs=100` reached.\n"
     ]
    },
    {
     "name": "stdout",
     "output_type": "stream",
     "text": [
      "Epoch 99: 100%|██████████| 250/250 [00:02<00:00, 85.57it/s, loss=0.215, v_num=0]\n"
     ]
    }
   ],
   "source": [
    "dataset_synth = data_formatter_synth.as_transitions()\n",
    "T_synth = TransitionModel(data_formatter_t.state_size, data_formatter_t.action_size)\n",
    "T_synth.train_model(dataset_synth, model_dir='/T_synth')"
   ]
  },
  {
   "cell_type": "code",
   "execution_count": 12,
   "metadata": {},
   "outputs": [
    {
     "data": {
      "image/png": "[encoded data removed]",
      "text/plain": [
       "<Figure size 640x480 with 1 Axes>"
      ]
     },
     "metadata": {},
     "output_type": "display_data"
    }
   ],
   "source": [
    "super_ext_dataset_t = super_ext_data_formatter_t.as_transitions()\n",
    "\n",
    "sa, s1 = super_ext_dataset_t[:]\n",
    "\n",
    "import matplotlib.pyplot as plt\n",
    "\n",
    "models = [T,T_ext,T_hat,T_synth]\n",
    "model_names = ['Trained on 500 target',\n",
    "               'Trained on 5000 target',\n",
    "               'Trained on 500 target + 5000 synthetic',\n",
    "               'Trained on 5000 synthetic']\n",
    "\n",
    "for m in models:\n",
    "    m = m.as_dict()['func']\n",
    "    with torch.no_grad():\n",
    "        error = torch.norm(m(sa) - s1, dim=1).detach().numpy()\n",
    "        plt.plot(sorted(error, reverse=True ))\n",
    "\n",
    "\n",
    "plt.legend(model_names)\n",
    "plt.title('Transition model trained using different datasets')\n",
    "plt.grid()"
   ]
  },
  {
   "cell_type": "code",
   "execution_count": null,
   "metadata": {},
   "outputs": [],
   "source": [
    "\n",
    "def plot_state_distribution(dataset, name: str, bins: int = 100):\n",
    "    \"\"\"\n",
    "    Plot the distribution of states in a dataset.\n",
    "    \"\"\"\n",
    "    sa,s1 = dataset[:]\n",
    "    state_size = s1.shape[1]\n",
    "\n",
    "    # components = [s1[:,i].detach().numpy() for i in range(state_size)]\n",
    "\n",
    "    components = [[] for _ in range(state_size)]\n",
    "\n",
    "    for sa, s1 in dataset:\n",
    "        for i, c in enumerate(s1):\n",
    "            components[i].append(c.detach().numpy())\n",
    "\n",
    "    fig, axs = plt.subplots(state_size)\n",
    "\n",
    "    for i, c in enumerate(components):\n",
    "        axs[i].hist(c, bins=bins)\n",
    "        axs[i].set_ylabel(f\"Component {i}\")\n",
    "        axs[i].grid()\n",
    "\n",
    "    fig.suptitle(\n",
    "        f\"{name}\\nState Marginal Distributions\"\n",
    "    )  \n",
    "    plt.show()\n",
    "\n"
   ]
  },
  {
   "cell_type": "code",
   "execution_count": null,
   "metadata": {},
   "outputs": [],
   "source": [
    "plot_state_distribution(dataset_t, f\"MC Dataset ({len(dataset_t)} samples)\")\n",
    "plot_state_distribution(ext_dataset_t, f\"MC Dataset ({len(ext_dataset_t)} samples)\")\n",
    "plot_state_distribution(dataset_synth, f\"Mapped Dataset PEND2MC ({len(dataset_synth)} samples)\")\n",
    "plot_state_distribution(dataset_hybrid, f\"Hybrid Dataset MC500+Mapped5000 ({len(dataset_t) + len(dataset_synth)} samples)\")"
   ]
  },
  {
   "cell_type": "code",
   "execution_count": null,
   "metadata": {},
   "outputs": [],
   "source": []
  }
 ],
 "metadata": {
  "kernelspec": {
   "display_name": "Python 3",
   "language": "python",
   "name": "python3"
  },
  "language_info": {
   "codemirror_mode": {
    "name": "ipython",
    "version": 3
   },
   "file_extension": ".py",
   "mimetype": "text/x-python",
   "name": "python",
   "nbconvert_exporter": "python",
   "pygments_lexer": "ipython3",
   "version": "3.7.9 (v3.7.9:13c94747c7, Aug 15 2020, 01:31:08) \n[Clang 6.0 (clang-600.0.57)]"
  },
  "orig_nbformat": 4,
  "vscode": {
   "interpreter": {
    "hash": "aee8b7b246df8f9039afb4144a1f6fd8d2ca17a180786b69acc140d282b71a49"
   }
  }
 },
 "nbformat": 4,
 "nbformat_minor": 2
}
